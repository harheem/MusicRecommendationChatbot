{
  "cells": [
    {
      "cell_type": "code",
      "execution_count": null,
      "metadata": {
        "colab": {
          "base_uri": "https://localhost:8080/"
        },
        "id": "GIjGOnbr4Ld6",
        "outputId": "151dcf03-567d-428c-ddd9-d38e558ca4cb"
      },
      "outputs": [],
      "source": [
        "!pip install text_generation gradio"
      ]
    },
    {
      "cell_type": "code",
      "execution_count": null,
      "metadata": {
        "id": "e7bRaVlt383l"
      },
      "outputs": [],
      "source": [
        "import os\n",
        "import io\n",
        "import IPython.display\n",
        "from PIL import Image\n",
        "import base64\n",
        "import requests\n",
        "requests.adapters.DEFAULT_TIMEOUT = 60\n",
        "\n",
        "hf_api_key = ''"
      ]
    },
    {
      "cell_type": "code",
      "execution_count": null,
      "metadata": {
        "id": "zjYgr08t6r_V"
      },
      "outputs": [],
      "source": [
        "# Helper function\n",
        "import requests, json\n",
        "from text_generation import Client\n",
        "\n",
        "#kfkas/Llama-2-ko-7b-Chat endpoint on the text_generation library\n",
        "client = Client('', headers={\"Authorization\": f\"{hf_api_key}\"}, timeout=120)"
      ]
    },
    {
      "cell_type": "code",
      "execution_count": null,
      "metadata": {
        "colab": {
          "base_uri": "https://localhost:8080/",
          "height": 52
        },
        "id": "1IzGhMT79zN3",
        "outputId": "0e1eda4e-0d52-412b-ca37-63c6322c97ac"
      },
      "outputs": [
        {
          "data": {
            "application/vnd.google.colaboratory.intrinsic+json": {
              "type": "string"
            },
            "text/plain": [
              "\"네! 헬스장에서는 신나는 곡을 듣는 것이 좋아요. 현아의 '버블팝!'을 들어보세요. 리듬과 신나는 가사로 운동에 에너지를 얻을 수 있을 거예요.\""
            ]
          },
          "execution_count": 85,
          "metadata": {},
          "output_type": "execute_result"
        }
      ],
      "source": [
        "input = \"헬스장에서의 동기 부여가 필요해!\"\n",
        "songs = \"Bubble Pop! - ['현아']\"\n",
        "\n",
        "\n",
        "prompt = (\n",
        "    f\"\"\"\n",
        "지시문:\n",
        "- 사용자에게 공감을 해준다.\n",
        "- 사용자에게 노래를 추천한다.\n",
        "- 아래 주어진 예시를 참고하여 답변을 생성하세요.\n",
        "\n",
        "예시1)\n",
        "사용자: 기분이 우울해..\n",
        "노래: 같이 걷자 - ['선우정아']\n",
        "답변: 저런, 기분이 우울하시군요. 당신에게 도움이 될 만한 노래를 찾아보았어요. 선우정아의 '같이 걷자'를 들어보시는 것은 어떨까요? 당신에게 힘이 되면 좋겠어요.\n",
        "\n",
        "예시2)\n",
        "사용자: 드라이브할 때 듣기 좋은 노래가 있을까?\n",
        "노래: 여행 - ['볼빨간사춘기']\n",
        "답변: 드라이브를 가시는군요! 드라이브에는 설렘이 가득한 노래가 좋을 것 같아요. 볼빨간사춘기의 '여행'을 추천드려요.\n",
        "\n",
        "사용자: {input}\n",
        "노래: {songs}\n",
        "답변:\n",
        "\"\"\"\n",
        ")\n",
        "client.generate(prompt,\n",
        "                do_sample=True,\n",
        "                max_new_tokens=256,\n",
        "                stop_sequences=[\"사용자:\", \"<|endoftext|>\", \"\\n\", \"\\u200b\"],\n",
        "                repetition_penalty=1.1,\n",
        "                top_k=20,\n",
        "                top_p=0.92,).generated_text"
      ]
    },
    {
      "cell_type": "code",
      "execution_count": null,
      "metadata": {
        "colab": {
          "base_uri": "https://localhost:8080/",
          "height": 52
        },
        "id": "zgAL6vrCSLJs",
        "outputId": "474bb50a-5b47-4b41-b5f9-b0f6e0287d73"
      },
      "outputs": [
        {
          "data": {
            "application/vnd.google.colaboratory.intrinsic+json": {
              "type": "string"
            },
            "text/plain": [
              "\"여자친구를 위한 노래를 찾고 계신가요? 어반자카파의 '봄을 그리다'를 추천드립니다. 어반자카파 특유의 편안한 멜로디와 부드러운 목소리로 그녀에게 사랑스러운 추억을 선사하세요.\""
            ]
          },
          "execution_count": 83,
          "metadata": {},
          "output_type": "execute_result"
        }
      ],
      "source": [
        "input = \"여자친구에게 감미로운 노래를 불러주고 싶어. 노래를 추천해줘.\"\n",
        "songs = \"봄을 그리다\t- ['어반자카파']\"\n",
        "\n",
        "\n",
        "prompt = (\n",
        "    f\"\"\"\n",
        "지시문:\n",
        "- 사용자에게 공감을 해준다.\n",
        "- 사용자에게 노래를 추천한다.\n",
        "- 아래 주어진 예시를 참고하여 답변을 생성하세요.\n",
        "\n",
        "예시1)\n",
        "사용자: 기분이 우울해..\n",
        "노래: 같이 걷자 - ['선우정아']\n",
        "답변: 저런, 기분이 우울하시군요. 당신에게 도움이 될 만한 노래를 찾아보았어요. 선우정아의 '같이 걷자'를 들어보시는 것은 어떨까요? 당신에게 힘이 되면 좋겠어요.\n",
        "\n",
        "예시2)\n",
        "사용자: 드라이브할 때 듣기 좋은 노래가 있을까?\n",
        "노래: 여행 - ['볼빨간사춘기']\n",
        "답변: 드라이브를 가시는군요! 드라이브에는 설렘이 가득한 노래가 좋을 것 같아요. 볼빨간사춘기의 '여행'을 추천드려요.\n",
        "\n",
        "사용자: {input}\n",
        "노래: {songs}\n",
        "답변:\n",
        "\"\"\"\n",
        "\n",
        ")\n",
        "client.generate(prompt,\n",
        "                do_sample=True,\n",
        "                max_new_tokens=256,\n",
        "                stop_sequences=[\"사용자:\", \"<|endoftext|>\", \"\\n\", \"\\u200b\"],\n",
        "                repetition_penalty=1.1,\n",
        "                top_k=20,\n",
        "                top_p=0.92,).generated_text"
      ]
    },
    {
      "cell_type": "code",
      "execution_count": null,
      "metadata": {
        "colab": {
          "base_uri": "https://localhost:8080/",
          "height": 52
        },
        "id": "4vVZmi0gTPdp",
        "outputId": "2a64bcf8-67f8-449a-84da-b18791c8e344"
      },
      "outputs": [
        {
          "data": {
            "application/vnd.google.colaboratory.intrinsic+json": {
              "type": "string"
            },
            "text/plain": [
              "\"첫사랑을 추억하는 곡인 버스커버스커의 '처음엔 사랑이란 게'를 추천합니다. 이별 후에도 사랑에 대한 긍정적인 생각을 가지고 계실 것 같아서요. 음악과 함께 마음 정리도 잘 하시고, 앞으로 새로운 사랑을 찾으시면 좋겠어요!\""
            ]
          },
          "execution_count": 84,
          "metadata": {},
          "output_type": "execute_result"
        }
      ],
      "source": [
        "input = \"이별하고 듣는 잔잔한 발라드나 사랑 노래를 듣고 싶어.\"\n",
        "songs = \"처음엔 사랑이란게 - ['버스커 버스커']\"\n",
        "\n",
        "prompt = (\n",
        "    f\"\"\"\n",
        "지시문:\n",
        "- 사용자에게 공감을 해준다.\n",
        "- 사용자에게 노래를 추천한다.\n",
        "- 아래 주어진 예시를 참고하여 답변을 생성하세요.\n",
        "\n",
        "예시1)\n",
        "사용자: 기분이 우울해..\n",
        "노래: 같이 걷자 - ['선우정아']\n",
        "답변: 저런, 기분이 우울하시군요. 당신에게 도움이 될 만한 노래를 찾아보았어요. 선우정아의 '같이 걷자'를 들어보시는 것은 어떨까요? 당신에게 힘이 되면 좋겠어요.\n",
        "\n",
        "예시2)\n",
        "사용자: 드라이브할 때 듣기 좋은 노래가 있을까?\n",
        "노래: 여행 - ['볼빨간사춘기']\n",
        "답변: 드라이브를 가시는군요! 드라이브에는 설렘이 가득한 노래가 좋을 것 같아요. 볼빨간사춘기의 '여행'을 추천드려요.\n",
        "\n",
        "사용자: {input}\n",
        "노래: {songs}\n",
        "답변:\n",
        "\"\"\"\n",
        "\n",
        ")\n",
        "client.generate(prompt,\n",
        "                do_sample=True,\n",
        "                max_new_tokens=256,\n",
        "                stop_sequences=[\"사용자:\", \"<|endoftext|>\", \"\\n\", \"\\u200b\"],\n",
        "                repetition_penalty=1.1,\n",
        "                top_k=20,\n",
        "                top_p=0.92,).generated_text"
      ]
    },
    {
      "cell_type": "code",
      "execution_count": null,
      "metadata": {
        "colab": {
          "base_uri": "https://localhost:8080/",
          "height": 52
        },
        "id": "GwMITfMTXRZy",
        "outputId": "23237ba6-13db-41ee-c203-aed0954e6ecf"
      },
      "outputs": [
        {
          "data": {
            "application/vnd.google.colaboratory.intrinsic+json": {
              "type": "string"
            },
            "text/plain": [
              "'공부할 때에는 집중력이 필요할 수 있으니 차분하고 안정적인 노래가 좋을 것 같아요. 이루마의 River flows in you는 마음을 편안하게 해주는 곡이니 함께 공부해보세요.\\n'"
            ]
          },
          "execution_count": 91,
          "metadata": {},
          "output_type": "execute_result"
        }
      ],
      "source": [
        "input = \"공부할 때 들을만한 노래가 있을까?\"\n",
        "songs = \"River flows in you - ['이루마']\"\n",
        "\n",
        "prompt = (\n",
        "    f\"\"\"\n",
        "지시문:\n",
        "- 사용자에게 공감을 해준다.\n",
        "- 사용자에게 노래를 추천한다.\n",
        "- 아래 주어진 예시들의 답변과 유사해야 한다.\n",
        "- 문장은 간결해야 한다.\n",
        "\n",
        "예시1)\n",
        "사용자: 기분이 우울해..\n",
        "노래: 같이 걷자 - ['선우정아']\n",
        "답변: 저런, 기분이 우울하시군요. 당신에게 도움이 될 만한 노래를 찾아보았어요. 선우정아의 '같이 걷자'를 들어보시는 것은 어떨까요? 당신에게 힘이 되면 좋겠어요.\n",
        "\n",
        "예시2)\n",
        "사용자: 드라이브할 때 듣기 좋은 노래가 있을까?\n",
        "노래: 여행 - ['볼빨간사춘기']\n",
        "답변: 드라이브를 가시는군요! 드라이브에는 설렘이 가득한 노래가 좋을 것 같아요. 볼빨간사춘기의 '여행'을 추천드려요.\n",
        "\n",
        "사용자: {input}\n",
        "노래: {songs}\n",
        "답변:\n",
        "\"\"\"\n",
        "\n",
        ")\n",
        "client.generate(prompt,\n",
        "                do_sample=True,\n",
        "                max_new_tokens=256,\n",
        "                stop_sequences=[\"사용자:\", \"<|endoftext|>\", \"\\n\", \"\\u200b\"],\n",
        "                repetition_penalty=1.1,\n",
        "                top_k=20,\n",
        "                top_p=0.92,).generated_text"
      ]
    },
    {
      "cell_type": "code",
      "execution_count": null,
      "metadata": {
        "id": "LNKvuqZMXN73"
      },
      "outputs": [],
      "source": [
        "#Back to Lesson 2, time flies!\n",
        "import gradio as gr\n",
        "def generate(input, slider):\n",
        "    output = client.generate(input, max_new_tokens=slider).generated_text\n",
        "    return output\n",
        "\n",
        "demo = gr.Interface(fn=generate, inputs=[gr.Textbox(label=\"Prompt\"), gr.Slider(label=\"Max new tokens\", value=20,  maximum=1024, minimum=1)], outputs=[gr.Textbox(label=\"Completion\")])\n",
        "gr.close_all()\n",
        "demo.launch(share=True)"
      ]
    },
    {
      "cell_type": "code",
      "execution_count": null,
      "metadata": {
        "colab": {
          "base_uri": "https://localhost:8080/",
          "height": 643
        },
        "id": "oe31gkDuEGRu",
        "outputId": "b159b8fa-d0c0-413f-d2dd-164d0a8f3866"
      },
      "outputs": [
        {
          "name": "stdout",
          "output_type": "stream",
          "text": [
            "Closing server running on port: 7861\n",
            "Closing server running on port: 7860\n",
            "Colab notebook detected. To show errors in colab notebook, set debug=True in launch()\n",
            "Running on public URL: https://d781b4fce7ac0c04c6.gradio.live\n",
            "\n",
            "This share link expires in 72 hours. For free permanent hosting and GPU upgrades, run `gradio deploy` from Terminal to deploy to Spaces (https://huggingface.co/spaces)\n"
          ]
        },
        {
          "data": {
            "text/html": [
              "<div><iframe src=\"https://d781b4fce7ac0c04c6.gradio.live\" width=\"100%\" height=\"500\" allow=\"autoplay; camera; microphone; clipboard-read; clipboard-write;\" frameborder=\"0\" allowfullscreen></iframe></div>"
            ],
            "text/plain": [
              "<IPython.core.display.HTML object>"
            ]
          },
          "metadata": {},
          "output_type": "display_data"
        },
        {
          "data": {
            "text/plain": []
          },
          "execution_count": 92,
          "metadata": {},
          "output_type": "execute_result"
        }
      ],
      "source": [
        "def format_chat_prompt(message, chat_history, songs=None):\n",
        "    if songs is not None:\n",
        "        prompt = \"\"\"\n",
        "지시문:\n",
        "- 사용자에게 공감을 해준다.\n",
        "- 사용자에게 노래를 추천한다.\n",
        "- 아래 주어진 예시를 참고하여 답변을 생성하세요.\n",
        "\n",
        "예시1)\n",
        "사용자: 기분이 우울해..\n",
        "노래: 같이 걷자 - ['선우정아']\n",
        "답변: 저런, 기분이 우울하시군요. 당신에게 도움이 될 만한 노래를 찾아보았어요. 선우정아의 '같이 걷자'를 들어보시는 것은 어떨까요? 당신에게 힘이 되면 좋겠어요.\n",
        "\n",
        "예시2)\n",
        "사용자: 드라이브할 때 듣기 좋은 노래가 있을까?\n",
        "노래: 여행 - ['볼빨간사춘기']\n",
        "답변: 드라이브를 가시는군요! 드라이브에는 설렘이 가득한 노래가 좋을 것 같아요. 볼빨간사춘기의 '여행'을 추천드려요.\n",
        "\n",
        "  \"\"\"\n",
        "        message = f\"{message}\\n노래: {songs}\"\n",
        "\n",
        "    else:\n",
        "        prompt = \"지시문:\\n사용자의 요청에 맞는 답변을 생성하세요. 친절하고 부드러운 말투를 사용하세요.\\n\"\n",
        "    for turn in chat_history:\n",
        "        user_message, bot_message = turn\n",
        "        prompt = f\"{prompt}\\n사용자: {user_message}\\n답변: {bot_message}\"\n",
        "    prompt = f\"{prompt}\\n사용자: {message}\\n답변:\"\n",
        "    return prompt\n",
        "\n",
        "\n",
        "def respond(message, chat_history, instruction, temperature=0.8):\n",
        "    prompt = format_chat_prompt(message, chat_history, instruction)\n",
        "    chat_history = chat_history + [[message, \"\"]]\n",
        "    stream = client.generate_stream(\n",
        "        prompt,\n",
        "        do_sample=True,\n",
        "        max_new_tokens=256,\n",
        "        stop_sequences=[\"사용자:\", \"<|endoftext|>\", \"\\n\"],\n",
        "        repetition_penalty=1.1,\n",
        "        top_k=20,\n",
        "        top_p=0.92,\n",
        "    )\n",
        "    # stop_sequences to not generate the user answer\n",
        "    acc_text = \"\"\n",
        "    # Streaming the tokens\n",
        "    for idx, response in enumerate(stream):\n",
        "        text_token = response.token.text\n",
        "\n",
        "        if response.details:\n",
        "            return\n",
        "\n",
        "        if idx == 0 and text_token.startswith(\" \"):\n",
        "            text_token = text_token[1:]\n",
        "\n",
        "        acc_text += text_token\n",
        "        last_turn = list(chat_history.pop(-1))\n",
        "        last_turn[-1] += acc_text\n",
        "        chat_history = chat_history + [last_turn]\n",
        "        yield \"\", chat_history\n",
        "        acc_text = \"\"\n",
        "\n",
        "\n",
        "with gr.Blocks() as demo:\n",
        "    chatbot = gr.Chatbot(height=240)  # just to fit the notebook\n",
        "    msg = gr.Textbox(label=\"Prompt\")\n",
        "    with gr.Accordion(label=\"Advanced options\", open=False):\n",
        "        system = gr.Textbox(\n",
        "            label=\"System message\",\n",
        "            lines=2,\n",
        "            value=\"A conversation between a user and an LLM-based AI assistant. The assistant gives helpful and honest answers.\",\n",
        "        )\n",
        "        temperature = gr.Slider(\n",
        "            label=\"temperature\", minimum=0.1, maximum=1, value=0.7, step=0.1\n",
        "        )\n",
        "    btn = gr.Button(\"Submit\")\n",
        "    clear = gr.ClearButton(components=[msg, chatbot], value=\"Clear console\")\n",
        "\n",
        "    btn.click(respond, inputs=[msg, chatbot, system], outputs=[msg, chatbot])\n",
        "    msg.submit(\n",
        "        respond, inputs=[msg, chatbot, system], outputs=[msg, chatbot]\n",
        "    )  # Press enter to submit\n",
        "gr.close_all()\n",
        "demo.queue().launch(share=True)\n"
      ]
    },
    {
      "cell_type": "code",
      "execution_count": null,
      "metadata": {
        "id": "P-nrl6oTLmVx"
      },
      "outputs": [],
      "source": []
    }
  ],
  "metadata": {
    "accelerator": "TPU",
    "colab": {
      "machine_shape": "hm",
      "provenance": []
    },
    "kernelspec": {
      "display_name": "Python 3",
      "language": "python",
      "name": "python3"
    },
    "language_info": {
      "name": "python",
      "version": "3.11.6 (main, Oct  2 2023, 20:46:14) [Clang 14.0.3 (clang-1403.0.22.14.1)]"
    },
    "vscode": {
      "interpreter": {
        "hash": "b0fa6594d8f4cbf19f97940f81e996739fb7646882a419484c72d19e05852a7e"
      }
    }
  },
  "nbformat": 4,
  "nbformat_minor": 0
}
